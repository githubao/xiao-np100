{
 "cells": [
  {
   "cell_type": "code",
   "execution_count": 1,
   "metadata": {
    "pycharm": {
     "is_executing": false
    }
   },
   "outputs": [],
   "source": [
    "import pandas as pd\n",
    "import numpy as np\n",
    "import matplotlib.pyplot as plt"
   ]
  },
  {
   "cell_type": "code",
   "execution_count": 2,
   "metadata": {},
   "outputs": [
    {
     "name": "stdout",
     "output_type": "stream",
     "text": [
      "0    1.0\n",
      "1    3.0\n",
      "2    5.0\n",
      "3    NaN\n",
      "4    8.0\n",
      "dtype: float64\n"
     ]
    }
   ],
   "source": [
    "s = pd.Series([1,3,5,np.nan,8])\n",
    "print(s)"
   ]
  },
  {
   "cell_type": "code",
   "execution_count": 4,
   "metadata": {},
   "outputs": [
    {
     "name": "stdout",
     "output_type": "stream",
     "text": [
      "DatetimeIndex(['2019-01-01', '2019-01-02', '2019-01-03', '2019-01-04',\n",
      "               '2019-01-05', '2019-01-06'],\n",
      "              dtype='datetime64[ns]', freq='D')\n"
     ]
    }
   ],
   "source": [
    "dates = pd.date_range('20190101',periods=6)\n",
    "print(dates)"
   ]
  },
  {
   "cell_type": "code",
   "execution_count": 6,
   "metadata": {},
   "outputs": [
    {
     "name": "stdout",
     "output_type": "stream",
     "text": [
      "             A   B   C   D\n",
      "2019-01-01   0   1   2   3\n",
      "2019-01-02   4   5   6   7\n",
      "2019-01-03   8   9  10  11\n",
      "2019-01-04  12  13  14  15\n",
      "2019-01-05  16  17  18  19\n",
      "2019-01-06  20  21  22  23\n"
     ]
    }
   ],
   "source": [
    "df = pd.DataFrame(np.arange(24).reshape(6,4),index=dates,columns=list('ABCD'))\n",
    "# df = pd.DataFrame(np.random.randn(6,4).reshape(6,4),index=dates,columns=list('ABCD'))\n",
    "print(df)"
   ]
  },
  {
   "cell_type": "code",
   "execution_count": 9,
   "metadata": {},
   "outputs": [
    {
     "name": "stdout",
     "output_type": "stream",
     "text": [
      "   A          B    C  D      E    F\n",
      "0  1 2013-01-02  1.0  3   test  foo\n",
      "1  1 2013-01-02  1.0  3  train  foo\n",
      "2  1 2013-01-02  1.0  3   test  foo\n",
      "3  1 2013-01-02  1.0  3  train  foo\n",
      "A             int64\n",
      "B    datetime64[ns]\n",
      "C           float32\n",
      "D             int32\n",
      "E          category\n",
      "F            object\n",
      "dtype: object\n"
     ]
    }
   ],
   "source": [
    "df2 = pd.DataFrame(\n",
    "{'A':1,\n",
    " 'B':pd.Timestamp('20130102'),\n",
    " 'C':pd.Series(1,index=list(range(4)),dtype='float32'),\n",
    " 'D':np.array([3]*4,dtype='int32'),\n",
    " 'E':pd.Categorical(['test','train','test','train']),\n",
    " 'F':'foo',\n",
    "}\n",
    ")\n",
    "print(df2)\n",
    "print(df2.dtypes)"
   ]
  },
  {
   "cell_type": "code",
   "execution_count": 10,
   "metadata": {},
   "outputs": [
    {
     "name": "stdout",
     "output_type": "stream",
     "text": [
      "             A   B   C   D\n",
      "2019-01-01   0   1   2   3\n",
      "2019-01-02   4   5   6   7\n",
      "2019-01-03   8   9  10  11\n",
      "2019-01-04  12  13  14  15\n",
      "2019-01-05  16  17  18  19\n",
      "             A   B   C   D\n",
      "2019-01-04  12  13  14  15\n",
      "2019-01-05  16  17  18  19\n",
      "2019-01-06  20  21  22  23\n"
     ]
    }
   ],
   "source": [
    "print(df.head()) # 默认5行\n",
    "print(df.tail(3))"
   ]
  },
  {
   "cell_type": "code",
   "execution_count": 13,
   "metadata": {},
   "outputs": [
    {
     "data": {
      "text/html": [
       "<div>\n",
       "<style scoped>\n",
       "    .dataframe tbody tr th:only-of-type {\n",
       "        vertical-align: middle;\n",
       "    }\n",
       "\n",
       "    .dataframe tbody tr th {\n",
       "        vertical-align: top;\n",
       "    }\n",
       "\n",
       "    .dataframe thead th {\n",
       "        text-align: right;\n",
       "    }\n",
       "</style>\n",
       "<table border=\"1\" class=\"dataframe\">\n",
       "  <thead>\n",
       "    <tr style=\"text-align: right;\">\n",
       "      <th></th>\n",
       "      <th>A</th>\n",
       "      <th>B</th>\n",
       "      <th>C</th>\n",
       "      <th>D</th>\n",
       "    </tr>\n",
       "  </thead>\n",
       "  <tbody>\n",
       "    <tr>\n",
       "      <th>count</th>\n",
       "      <td>6.000000</td>\n",
       "      <td>6.000000</td>\n",
       "      <td>6.000000</td>\n",
       "      <td>6.000000</td>\n",
       "    </tr>\n",
       "    <tr>\n",
       "      <th>mean</th>\n",
       "      <td>10.000000</td>\n",
       "      <td>11.000000</td>\n",
       "      <td>12.000000</td>\n",
       "      <td>13.000000</td>\n",
       "    </tr>\n",
       "    <tr>\n",
       "      <th>std</th>\n",
       "      <td>7.483315</td>\n",
       "      <td>7.483315</td>\n",
       "      <td>7.483315</td>\n",
       "      <td>7.483315</td>\n",
       "    </tr>\n",
       "    <tr>\n",
       "      <th>min</th>\n",
       "      <td>0.000000</td>\n",
       "      <td>1.000000</td>\n",
       "      <td>2.000000</td>\n",
       "      <td>3.000000</td>\n",
       "    </tr>\n",
       "    <tr>\n",
       "      <th>25%</th>\n",
       "      <td>5.000000</td>\n",
       "      <td>6.000000</td>\n",
       "      <td>7.000000</td>\n",
       "      <td>8.000000</td>\n",
       "    </tr>\n",
       "    <tr>\n",
       "      <th>50%</th>\n",
       "      <td>10.000000</td>\n",
       "      <td>11.000000</td>\n",
       "      <td>12.000000</td>\n",
       "      <td>13.000000</td>\n",
       "    </tr>\n",
       "    <tr>\n",
       "      <th>75%</th>\n",
       "      <td>15.000000</td>\n",
       "      <td>16.000000</td>\n",
       "      <td>17.000000</td>\n",
       "      <td>18.000000</td>\n",
       "    </tr>\n",
       "    <tr>\n",
       "      <th>max</th>\n",
       "      <td>20.000000</td>\n",
       "      <td>21.000000</td>\n",
       "      <td>22.000000</td>\n",
       "      <td>23.000000</td>\n",
       "    </tr>\n",
       "  </tbody>\n",
       "</table>\n",
       "</div>"
      ],
      "text/plain": [
       "               A          B          C          D\n",
       "count   6.000000   6.000000   6.000000   6.000000\n",
       "mean   10.000000  11.000000  12.000000  13.000000\n",
       "std     7.483315   7.483315   7.483315   7.483315\n",
       "min     0.000000   1.000000   2.000000   3.000000\n",
       "25%     5.000000   6.000000   7.000000   8.000000\n",
       "50%    10.000000  11.000000  12.000000  13.000000\n",
       "75%    15.000000  16.000000  17.000000  18.000000\n",
       "max    20.000000  21.000000  22.000000  23.000000"
      ]
     },
     "execution_count": 13,
     "metadata": {},
     "output_type": "execute_result"
    }
   ],
   "source": [
    "print(df.index) # 行索引\n",
    "print(df.columns) # 列索引\n",
    "print(df.values)\n",
    "df.describe() # 各项统计特征"
   ]
  },
  {
   "cell_type": "code",
   "execution_count": 14,
   "metadata": {},
   "outputs": [
    {
     "name": "stdout",
     "output_type": "stream",
     "text": [
      "   2019-01-01  2019-01-02  2019-01-03  2019-01-04  2019-01-05  2019-01-06\n",
      "A           0           4           8          12          16          20\n",
      "B           1           5           9          13          17          21\n",
      "C           2           6          10          14          18          22\n",
      "D           3           7          11          15          19          23\n"
     ]
    }
   ],
   "source": [
    "print(df.T) # 转秩"
   ]
  },
  {
   "cell_type": "code",
   "execution_count": 24,
   "metadata": {},
   "outputs": [
    {
     "name": "stdout",
     "output_type": "stream",
     "text": [
      "             D   C   B   A\n",
      "2019-01-01   3   2   1   0\n",
      "2019-01-02   7   6   5   4\n",
      "2019-01-03  11  10   9   8\n",
      "2019-01-04  15  14  13  12\n",
      "2019-01-05  19  18  17  16\n",
      "2019-01-06  23  22  21  20\n"
     ]
    },
    {
     "data": {
      "text/html": [
       "<div>\n",
       "<style scoped>\n",
       "    .dataframe tbody tr th:only-of-type {\n",
       "        vertical-align: middle;\n",
       "    }\n",
       "\n",
       "    .dataframe tbody tr th {\n",
       "        vertical-align: top;\n",
       "    }\n",
       "\n",
       "    .dataframe thead th {\n",
       "        text-align: right;\n",
       "    }\n",
       "</style>\n",
       "<table border=\"1\" class=\"dataframe\">\n",
       "  <thead>\n",
       "    <tr style=\"text-align: right;\">\n",
       "      <th></th>\n",
       "      <th>A</th>\n",
       "      <th>B</th>\n",
       "      <th>C</th>\n",
       "      <th>D</th>\n",
       "    </tr>\n",
       "  </thead>\n",
       "  <tbody>\n",
       "    <tr>\n",
       "      <th>2019-01-01</th>\n",
       "      <td>0</td>\n",
       "      <td>1</td>\n",
       "      <td>2</td>\n",
       "      <td>3</td>\n",
       "    </tr>\n",
       "    <tr>\n",
       "      <th>2019-01-02</th>\n",
       "      <td>4</td>\n",
       "      <td>5</td>\n",
       "      <td>6</td>\n",
       "      <td>7</td>\n",
       "    </tr>\n",
       "    <tr>\n",
       "      <th>2019-01-03</th>\n",
       "      <td>8</td>\n",
       "      <td>9</td>\n",
       "      <td>10</td>\n",
       "      <td>11</td>\n",
       "    </tr>\n",
       "    <tr>\n",
       "      <th>2019-01-04</th>\n",
       "      <td>12</td>\n",
       "      <td>13</td>\n",
       "      <td>14</td>\n",
       "      <td>15</td>\n",
       "    </tr>\n",
       "    <tr>\n",
       "      <th>2019-01-05</th>\n",
       "      <td>16</td>\n",
       "      <td>17</td>\n",
       "      <td>18</td>\n",
       "      <td>19</td>\n",
       "    </tr>\n",
       "    <tr>\n",
       "      <th>2019-01-06</th>\n",
       "      <td>20</td>\n",
       "      <td>21</td>\n",
       "      <td>22</td>\n",
       "      <td>23</td>\n",
       "    </tr>\n",
       "  </tbody>\n",
       "</table>\n",
       "</div>"
      ],
      "text/plain": [
       "             A   B   C   D\n",
       "2019-01-01   0   1   2   3\n",
       "2019-01-02   4   5   6   7\n",
       "2019-01-03   8   9  10  11\n",
       "2019-01-04  12  13  14  15\n",
       "2019-01-05  16  17  18  19\n",
       "2019-01-06  20  21  22  23"
      ]
     },
     "execution_count": 24,
     "metadata": {},
     "output_type": "execute_result"
    }
   ],
   "source": [
    "print(df.sort_index(axis=1,ascending=False)) # 根据第一个轴排序，也就是columns的值倒序，所以是DCBA\n",
    "df.sort_values(by='B') # 根据某一列的值排序一整行\n",
    "# df.sort_values(by=pd.to_datetime('2019-01-02',format='%Y-%m-%d'))"
   ]
  },
  {
   "cell_type": "code",
   "execution_count": 35,
   "metadata": {},
   "outputs": [
    {
     "name": "stdout",
     "output_type": "stream",
     "text": [
      "2019-01-01     0\n",
      "2019-01-02     4\n",
      "2019-01-03     8\n",
      "2019-01-04    12\n",
      "2019-01-05    16\n",
      "2019-01-06    20\n",
      "Freq: D, Name: A, dtype: int64\n",
      "            A  B   C   D\n",
      "2019-01-01  0  1   2   3\n",
      "2019-01-02  4  5   6   7\n",
      "2019-01-03  8  9  10  11\n",
      "A    0\n",
      "B    1\n",
      "C    2\n",
      "D    3\n",
      "Name: 2019-01-01 00:00:00, dtype: int64\n",
      "(3, 4)\n",
      "(4,)\n"
     ]
    }
   ],
   "source": [
    "print(df['A'])\n",
    "print(df[0:3]) # 获取第几行\n",
    "print(df.loc[dates[0]]) # 根据index获取某一行\n",
    "print(df[0:3].shape) # (3,4)\n",
    "print(df.loc[dates[0]].shape) (4,)\n",
    "      "
   ]
  },
  {
   "cell_type": "code",
   "execution_count": 37,
   "metadata": {},
   "outputs": [
    {
     "name": "stdout",
     "output_type": "stream",
     "text": [
      "             A   B\n",
      "2019-01-01   0   1\n",
      "2019-01-02   4   5\n",
      "2019-01-03   8   9\n",
      "2019-01-04  12  13\n",
      "2019-01-05  16  17\n",
      "2019-01-06  20  21\n",
      "             A   B\n",
      "2019-01-02   4   5\n",
      "2019-01-03   8   9\n",
      "2019-01-04  12  13\n",
      "A    4\n",
      "B    5\n",
      "Name: 2019-01-02 00:00:00, dtype: int64\n"
     ]
    }
   ],
   "source": [
    "print(df.loc[:,['A','B']]) # 只获取需要的列数据\n",
    "print(df.loc['20190102':'20190104',['A','B']]) # 行列都进行切片\n",
    "print(df.loc['20190102',['A','B']]) # shape会变维度，变成2行1列的"
   ]
  },
  {
   "cell_type": "code",
   "execution_count": 41,
   "metadata": {},
   "outputs": [
    {
     "name": "stdout",
     "output_type": "stream",
     "text": [
      "4\n",
      "4\n"
     ]
    }
   ],
   "source": [
    "print(df.loc['20190102','A'])\n",
    "print(df.at[dates[1],'A'])"
   ]
  },
  {
   "cell_type": "code",
   "execution_count": 46,
   "metadata": {},
   "outputs": [
    {
     "name": "stdout",
     "output_type": "stream",
     "text": [
      "A    12\n",
      "B    13\n",
      "C    14\n",
      "D    15\n",
      "Name: 2019-01-04 00:00:00, dtype: int64\n",
      "             A   B\n",
      "2019-01-04  12  13\n",
      "2019-01-05  16  17\n",
      "             A   B\n",
      "2019-01-02   4   5\n",
      "2019-01-04  12  13\n",
      "2019-01-06  20  21\n"
     ]
    }
   ],
   "source": [
    "print(df.iloc[3])  # 第三行\n",
    "print(df.iloc[3:5,0:2])\n",
    "print(df.iloc[[1,3,5],0:2])"
   ]
  },
  {
   "cell_type": "code",
   "execution_count": 49,
   "metadata": {},
   "outputs": [
    {
     "name": "stdout",
     "output_type": "stream",
     "text": [
      "5\n",
      "5\n"
     ]
    }
   ],
   "source": [
    "print(df.iloc[1,1])\n",
    "print(df.iat[1,1])"
   ]
  },
  {
   "cell_type": "code",
   "execution_count": 54,
   "metadata": {},
   "outputs": [
    {
     "name": "stdout",
     "output_type": "stream",
     "text": [
      "             A   B   C   D\n",
      "2019-01-03   8   9  10  11\n",
      "2019-01-04  12  13  14  15\n",
      "2019-01-05  16  17  18  19\n",
      "2019-01-06  20  21  22  23\n",
      "               A     B     C     D\n",
      "2019-01-01   NaN   NaN   NaN   NaN\n",
      "2019-01-02   NaN   NaN   6.0   7.0\n",
      "2019-01-03   8.0   9.0  10.0  11.0\n",
      "2019-01-04  12.0  13.0  14.0  15.0\n",
      "2019-01-05  16.0  17.0  18.0  19.0\n",
      "2019-01-06  20.0  21.0  22.0  23.0\n",
      "            A  B   C   D    E\n",
      "2019-01-01  0  1   2   3  one\n",
      "2019-01-02  4  5   6   7  one\n",
      "2019-01-03  8  9  10  11  two\n"
     ]
    }
   ],
   "source": [
    "print(df[df.A>7])\n",
    "print(df[df>5])\n",
    "df3 = df.copy()\n",
    "df3['E'] = ['one','one','two','three','four','three']\n",
    "print(df3[df3['E'].isin(['one','two'])])"
   ]
  },
  {
   "cell_type": "code",
   "execution_count": 57,
   "metadata": {},
   "outputs": [
    {
     "name": "stdout",
     "output_type": "stream",
     "text": [
      "             A   B   C   D      E  F\n",
      "2019-01-01   0   1   2   3    one  1\n",
      "2019-01-02   4   5   6   7    one  2\n",
      "2019-01-03   8   9  10  11    two  3\n",
      "2019-01-04  12  13  14  15  three  4\n",
      "2019-01-05  16  17  18  19   four  5\n",
      "2019-01-06  20  21  22  23  three  6\n"
     ]
    }
   ],
   "source": [
    "s1 = pd.Series([1,2,3,4,5,6],index=dates)\n",
    "df3['F'] = s1\n",
    "print(df3)"
   ]
  },
  {
   "cell_type": "code",
   "execution_count": 59,
   "metadata": {},
   "outputs": [
    {
     "name": "stdout",
     "output_type": "stream",
     "text": [
      "             A   B   C   D      E  F  G\n",
      "2019-01-01   0   1   2   3    one  1  5\n",
      "2019-01-02   4   5   6   7    one  2  5\n",
      "2019-01-03   8   9  10  11    two  3  5\n",
      "2019-01-04  12  13  14  15  three  4  5\n",
      "2019-01-05  16  17  18  19   four  5  5\n",
      "2019-01-06  20  21  22  23  three  6  5\n"
     ]
    }
   ],
   "source": [
    "df3.loc[:,'G'] = np.array([5] * 6)\n",
    "print(df3)"
   ]
  },
  {
   "cell_type": "code",
   "execution_count": 70,
   "metadata": {},
   "outputs": [
    {
     "name": "stdout",
     "output_type": "stream",
     "text": [
      "               A     B     C     D   E\n",
      "2019-01-01   0.0   1.0   2.0   3.0 NaN\n",
      "2019-01-02   4.0   5.0   6.0   7.0 NaN\n",
      "2019-01-03   8.0   9.0  10.0  11.0 NaN\n",
      "2019-01-04  12.0  13.0  14.0  15.0 NaN\n",
      "               A     B     C     D    E\n",
      "2019-01-01   0.0   1.0   2.0   3.0  1.0\n",
      "2019-01-02   4.0   5.0   6.0   7.0  1.0\n",
      "2019-01-03   8.0   9.0  10.0  11.0  NaN\n",
      "2019-01-04  12.0  13.0  14.0  15.0  NaN\n",
      "              A    B    C    D    E\n",
      "2019-01-01  0.0  1.0  2.0  3.0  1.0\n",
      "2019-01-02  4.0  5.0  6.0  7.0  1.0\n"
     ]
    }
   ],
   "source": [
    "df1 = df.reindex(index=dates[0:4],columns=list(df.columns)+['E'])\n",
    "print(df1)\n",
    "df1.loc[dates[0]:dates[1],'E'] = 1\n",
    "print(df1)\n",
    "df1.dropna(how='any',inplace=True)\n",
    "# df1.fillna(value=5,inplace=True)\n",
    "print(df1)"
   ]
  },
  {
   "cell_type": "code",
   "execution_count": 72,
   "metadata": {},
   "outputs": [
    {
     "data": {
      "text/plain": [
       "2019-01-01     1.5\n",
       "2019-01-02     5.5\n",
       "2019-01-03     9.5\n",
       "2019-01-04    13.5\n",
       "2019-01-05    17.5\n",
       "2019-01-06    21.5\n",
       "Freq: D, dtype: float64"
      ]
     },
     "execution_count": 72,
     "metadata": {},
     "output_type": "execute_result"
    }
   ],
   "source": [
    "df.mean() # 默认axis=0, 意思是按第0个维度取平均值所以会把第0个维度的值去掉，因此由(6,4) -> (1,4) -> (4,)\n",
    "df.mean(axis=1)"
   ]
  },
  {
   "cell_type": "code",
   "execution_count": 73,
   "metadata": {},
   "outputs": [
    {
     "name": "stdout",
     "output_type": "stream",
     "text": [
      "2019-01-01    NaN\n",
      "2019-01-02    NaN\n",
      "2019-01-03    1.0\n",
      "2019-01-04    3.0\n",
      "2019-01-05    5.0\n",
      "2019-01-06    NaN\n",
      "Freq: D, dtype: float64\n",
      "               A     B     C     D\n",
      "2019-01-01   NaN   NaN   NaN   NaN\n",
      "2019-01-02   NaN   NaN   NaN   NaN\n",
      "2019-01-03   7.0   8.0   9.0  10.0\n",
      "2019-01-04   9.0  10.0  11.0  12.0\n",
      "2019-01-05  11.0  12.0  13.0  14.0\n",
      "2019-01-06   NaN   NaN   NaN   NaN\n"
     ]
    }
   ],
   "source": [
    "s = pd.Series([1,3,5,np.nan,6,8],index=dates).shift(2) # 向后移动2位\n",
    "print(s)\n",
    "print(df.sub(s,axis=\"index\")) # 沿着index的顺序挨个sub做减法"
   ]
  },
  {
   "cell_type": "code",
   "execution_count": 81,
   "metadata": {},
   "outputs": [
    {
     "data": {
      "text/plain": [
       "0    a\n",
       "1    b\n",
       "dtype: object"
      ]
     },
     "execution_count": 81,
     "metadata": {},
     "output_type": "execute_result"
    }
   ],
   "source": [
    "df.apply(np.cumsum) # 每列递加累计求和\n",
    "df.apply(lambda x: x.max()-x.min()) # 折叠行，按列计算\n",
    "df.apply(lambda x: x.max()-x.min(),axis=1)\n",
    "df['A'].value_counts() # 一行或者一列中，元素的个数\n",
    "s = pd.Series(['A','b'])\n",
    "s.str.lower()"
   ]
  },
  {
   "cell_type": "code",
   "execution_count": 82,
   "metadata": {},
   "outputs": [],
   "source": [
    "# df.concat()\n",
    "# df.merge()\n",
    "# df.append()"
   ]
  },
  {
   "cell_type": "code",
   "execution_count": null,
   "metadata": {},
   "outputs": [],
   "source": []
  }
 ],
 "metadata": {
  "kernelspec": {
   "display_name": "Python 3",
   "language": "python",
   "name": "python3"
  },
  "language_info": {
   "codemirror_mode": {
    "name": "ipython",
    "version": 3
   },
   "file_extension": ".py",
   "mimetype": "text/x-python",
   "name": "python",
   "nbconvert_exporter": "python",
   "pygments_lexer": "ipython3",
   "version": "3.7.2"
  },
  "pycharm": {
   "stem_cell": {
    "cell_type": "raw",
    "metadata": {
     "collapsed": false
    },
    "source": []
   }
  }
 },
 "nbformat": 4,
 "nbformat_minor": 1
}

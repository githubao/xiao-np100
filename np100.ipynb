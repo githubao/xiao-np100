{
  "cells": [
    {
      "cell_type": "code",
      "execution_count": 1,
      "metadata": {
        "pycharm": {}
      },
      "outputs": [],
      "source": [
        "# ch01\n",
        "import numpy as np"
      ]
    },
    {
      "cell_type": "code",
      "execution_count": 2,
      "metadata": {
        "pycharm": {}
      },
      "outputs": [
        {
          "name": "stdout",
          "output_type": "stream",
          "text": [
            "1.16.2\n",
            "blas_mkl_info:\n",
            "  NOT AVAILABLE\n",
            "blis_info:\n",
            "  NOT AVAILABLE\n",
            "openblas_info:\n",
            "    libraries \u003d [\u0027openblas\u0027, \u0027openblas\u0027]\n",
            "    library_dirs \u003d [\u0027/usr/local/lib\u0027]\n",
            "    language \u003d c\n",
            "    define_macros \u003d [(\u0027HAVE_CBLAS\u0027, None)]\n",
            "blas_opt_info:\n",
            "    libraries \u003d [\u0027openblas\u0027, \u0027openblas\u0027]\n",
            "    library_dirs \u003d [\u0027/usr/local/lib\u0027]\n",
            "    language \u003d c\n",
            "    define_macros \u003d [(\u0027HAVE_CBLAS\u0027, None)]\n",
            "lapack_mkl_info:\n",
            "  NOT AVAILABLE\n",
            "openblas_lapack_info:\n",
            "    libraries \u003d [\u0027openblas\u0027, \u0027openblas\u0027]\n",
            "    library_dirs \u003d [\u0027/usr/local/lib\u0027]\n",
            "    language \u003d c\n",
            "    define_macros \u003d [(\u0027HAVE_CBLAS\u0027, None)]\n",
            "lapack_opt_info:\n",
            "    libraries \u003d [\u0027openblas\u0027, \u0027openblas\u0027]\n",
            "    library_dirs \u003d [\u0027/usr/local/lib\u0027]\n",
            "    language \u003d c\n",
            "    define_macros \u003d [(\u0027HAVE_CBLAS\u0027, None)]\n"
          ]
        }
      ],
      "source": [
        "print(np.__version__)\n",
        "np.show_config()"
      ]
    },
    {
      "cell_type": "code",
      "execution_count": 3,
      "metadata": {
        "pycharm": {}
      },
      "outputs": [
        {
          "name": "stdout",
          "output_type": "stream",
          "text": [
            "[0. 0. 0. 0. 0. 0. 0. 0. 0. 0.]\n"
          ]
        }
      ],
      "source": [
        "Z \u003d np.zeros(10)\n",
        "print(Z)"
      ]
    },
    {
      "cell_type": "code",
      "execution_count": 4,
      "metadata": {
        "pycharm": {}
      },
      "outputs": [
        {
          "name": "stdout",
          "output_type": "stream",
          "text": [
            "size: 80 bytes\n",
            "itemsize: 8 bytes\n",
            "640 bytes\n"
          ]
        }
      ],
      "source": [
        "Z \u003d np.zeros((10,8))\n",
        "print(\"size: {} bytes\".format(Z.size))\n",
        "print(\"itemsize: {} bytes\".format(Z.itemsize))\n",
        "print(\"{} bytes\".format(Z.size * Z.itemsize))"
      ]
    },
    {
      "cell_type": "code",
      "execution_count": 5,
      "metadata": {
        "pycharm": {}
      },
      "outputs": [
        {
          "name": "stdout",
          "output_type": "stream",
          "text": [
            "README.md   np100.ipynb\n",
            "add(x1, x2, /, out\u003dNone, *, where\u003dTrue, casting\u003d\u0027same_kind\u0027, order\u003d\u0027K\u0027, dtype\u003dNone, subok\u003dTrue[, signature, extobj])\n",
            "\n",
            "Add arguments element-wise.\n",
            "\n",
            "Parameters\n",
            "----------\n",
            "x1, x2 : array_like\n",
            "    The arrays to be added.  If ``x1.shape !\u003d x2.shape``, they must be\n",
            "    broadcastable to a common shape (which may be the shape of one or\n",
            "    the other).\n",
            "out : ndarray, None, or tuple of ndarray and None, optional\n",
            "    A location into which the result is stored. If provided, it must have\n",
            "    a shape that the inputs broadcast to. If not provided or `None`,\n",
            "    a freshly-allocated array is returned. A tuple (possible only as a\n",
            "    keyword argument) must have length equal to the number of outputs.\n",
            "where : array_like, optional\n",
            "    Values of True indicate to calculate the ufunc at that position, values\n",
            "    of False indicate to leave the value in the output alone.\n",
            "**kwargs\n",
            "    For other keyword-only arguments, see the\n",
            "    :ref:`ufunc docs \u003cufuncs.kwargs\u003e`.\n",
            "\n",
            "Returns\n",
            "-------\n",
            "add : ndarray or scalar\n",
            "    The sum of `x1` and `x2`, element-wise.\n",
            "    This is a scalar if both `x1` and `x2` are scalars.\n",
            "\n",
            "Notes\n",
            "-----\n",
            "Equivalent to `x1` + `x2` in terms of array broadcasting.\n",
            "\n",
            "Examples\n",
            "--------\n",
            "\u003e\u003e\u003e np.add(1.0, 4.0)\n",
            "5.0\n",
            "\u003e\u003e\u003e x1 \u003d np.arange(9.0).reshape((3, 3))\n",
            "\u003e\u003e\u003e x2 \u003d np.arange(3.0)\n",
            "\u003e\u003e\u003e np.add(x1, x2)\n",
            "array([[  0.,   2.,   4.],\n",
            "       [  3.,   5.,   7.],\n",
            "       [  6.,   8.,  10.]])\n"
          ]
        }
      ],
      "source": [
        "# %run `sth.py`\n",
        "! ls\n",
        "! python3 -c \"import numpy; numpy.info(numpy.add);\""
      ]
    },
    {
      "cell_type": "code",
      "execution_count": 6,
      "metadata": {
        "pycharm": {}
      },
      "outputs": [
        {
          "name": "stdout",
          "output_type": "stream",
          "text": [
            "[0. 0. 0. 0. 1. 0. 0. 0. 0. 0.]\n"
          ]
        }
      ],
      "source": [
        "# ch06\n",
        "Z \u003d np.zeros(10)\n",
        "Z[4] \u003d 1\n",
        "print(Z)"
      ]
    },
    {
      "cell_type": "code",
      "execution_count": 7,
      "metadata": {
        "pycharm": {}
      },
      "outputs": [
        {
          "name": "stdout",
          "output_type": "stream",
          "text": [
            "[10 11 12 13 14 15 16 17 18 19 20 21 22 23 24 25 26 27 28 29 30 31 32 33\n",
            " 34 35 36 37 38 39 40 41 42 43 44 45 46 47 48 49]\n"
          ]
        }
      ],
      "source": [
        "Z \u003d np.arange(10,50)\n",
        "print(Z)"
      ]
    },
    {
      "cell_type": "code",
      "execution_count": 8,
      "metadata": {
        "pycharm": {}
      },
      "outputs": [
        {
          "name": "stdout",
          "output_type": "stream",
          "text": [
            "[49 48 47 46 45 44 43 42 41 40 39 38 37 36 35 34 33 32 31 30 29 28 27 26\n",
            " 25 24 23 22 21 20 19 18 17 16 15 14 13 12 11 10  9  8  7  6  5  4  3  2\n",
            "  1  0]\n"
          ]
        }
      ],
      "source": [
        "Z \u003d np.arange(50)\n",
        "Z \u003d Z[::-1]\n",
        "print(Z)"
      ]
    },
    {
      "cell_type": "code",
      "execution_count": 9,
      "metadata": {
        "pycharm": {}
      },
      "outputs": [
        {
          "name": "stdout",
          "output_type": "stream",
          "text": [
            "[[0 1 2]\n",
            " [3 4 5]\n",
            " [6 7 8]]\n"
          ]
        }
      ],
      "source": [
        "Z \u003d np.arange(9).reshape(3,3)\n",
        "print(Z)"
      ]
    },
    {
      "cell_type": "code",
      "execution_count": 10,
      "metadata": {
        "pycharm": {}
      },
      "outputs": [
        {
          "name": "stdout",
          "output_type": "stream",
          "text": [
            "(array([0, 1, 4]),)\n"
          ]
        }
      ],
      "source": [
        "# nonzero，返回array里面的非零元素的索引值数组\n",
        "nz \u003d np.nonzero([1,2,0,0,4,0])\n",
        "print(nz)"
      ]
    },
    {
      "cell_type": "code",
      "execution_count": 11,
      "metadata": {
        "pycharm": {}
      },
      "outputs": [
        {
          "name": "stdout",
          "output_type": "stream",
          "text": [
            "[[1. 0. 0.]\n",
            " [0. 1. 0.]\n",
            " [0. 0. 1.]]\n"
          ]
        }
      ],
      "source": [
        "# ch11\n",
        "# 对角矩阵，数量矩阵，单位矩阵\n",
        "Z \u003d np.eye(3)\n",
        "print(Z)"
      ]
    },
    {
      "cell_type": "code",
      "execution_count": 12,
      "metadata": {
        "pycharm": {}
      },
      "outputs": [
        {
          "name": "stdout",
          "output_type": "stream",
          "text": [
            "[[[0.80447026 0.23120417 0.56811013]\n",
            "  [0.46280032 0.12138581 0.32372037]\n",
            "  [0.27617159 0.52260856 0.07997414]]\n",
            "\n",
            " [[0.65445169 0.69585406 0.39994724]\n",
            "  [0.56306243 0.93065957 0.83790446]\n",
            "  [0.31069363 0.09549381 0.43484678]]\n",
            "\n",
            " [[0.02901398 0.1664131  0.95985693]\n",
            "  [0.18906658 0.42475841 0.62380199]\n",
            "  [0.55315948 0.91509301 0.03944147]]]\n"
          ]
        }
      ],
      "source": [
        "Z \u003d np.random.random((3,3,3))\n",
        "print(Z)"
      ]
    },
    {
      "cell_type": "code",
      "execution_count": 13,
      "metadata": {
        "pycharm": {}
      },
      "outputs": [
        {
          "name": "stdout",
          "output_type": "stream",
          "text": [
            "[[0.51443379 0.7005365  0.67501082 0.45120614 0.17342438 0.74209164\n",
            "  0.05918411 0.27322234 0.5081639  0.45401389]\n",
            " [0.24497727 0.99963522 0.56678138 0.02466529 0.98274694 0.67656163\n",
            "  0.4599189  0.17455983 0.04766654 0.62307449]\n",
            " [0.35723065 0.28290774 0.34972088 0.13121272 0.376232   0.77220134\n",
            "  0.15733809 0.4458547  0.98477687 0.5017709 ]\n",
            " [0.64795167 0.59466352 0.9745692  0.18040743 0.65262112 0.93478113\n",
            "  0.26964431 0.13210196 0.72368801 0.82875677]\n",
            " [0.43285464 0.91495044 0.54045644 0.54489484 0.49762562 0.525127\n",
            "  0.185396   0.6081172  0.40477083 0.17221565]\n",
            " [0.78099922 0.07276854 0.79280232 0.13165615 0.81744816 0.26806594\n",
            "  0.73974662 0.7982987  0.48645119 0.60761601]\n",
            " [0.16796625 0.35252368 0.16293615 0.74257456 0.81273283 0.06220308\n",
            "  0.36480519 0.56182485 0.90917907 0.62554356]\n",
            " [0.19848904 0.92919884 0.75854641 0.69010597 0.60113949 0.13123795\n",
            "  0.48577034 0.69156227 0.29997309 0.45514748]\n",
            " [0.8866666  0.15729621 0.77465743 0.76083016 0.43148761 0.20489567\n",
            "  0.50363198 0.73848229 0.49363138 0.9525198 ]\n",
            " [0.35231266 0.64709656 0.29109969 0.01566256 0.93021834 0.10820017\n",
            "  0.78078873 0.33116535 0.9410705  0.30923373]]\n",
            "0.015662560550834148 0.9996352246567254\n"
          ]
        }
      ],
      "source": [
        "Z \u003d np.random.random((10,10))\n",
        "Zmin,Zmax \u003d Z.min(),Z.max()\n",
        "print(Z)\n",
        "print(Zmin,Zmax)"
      ]
    },
    {
      "cell_type": "code",
      "execution_count": 14,
      "metadata": {
        "pycharm": {}
      },
      "outputs": [
        {
          "name": "stdout",
          "output_type": "stream",
          "text": [
            "0.4692050747386999\n"
          ]
        }
      ],
      "source": [
        "Z \u003d np.random.random(30)\n",
        "m \u003d Z.mean()\n",
        "print(m)"
      ]
    },
    {
      "cell_type": "code",
      "execution_count": 15,
      "metadata": {
        "pycharm": {}
      },
      "outputs": [
        {
          "name": "stdout",
          "output_type": "stream",
          "text": [
            "[[1. 1. 1. 1. 1. 1. 1. 1. 1. 1.]\n",
            " [1. 1. 1. 1. 1. 1. 1. 1. 1. 1.]\n",
            " [1. 1. 1. 1. 1. 1. 1. 1. 1. 1.]\n",
            " [1. 1. 1. 1. 1. 1. 1. 1. 1. 1.]\n",
            " [1. 1. 1. 1. 1. 1. 1. 1. 1. 1.]\n",
            " [1. 1. 1. 1. 1. 1. 1. 1. 1. 1.]\n",
            " [1. 1. 1. 1. 1. 1. 1. 1. 1. 1.]\n",
            " [1. 1. 1. 1. 1. 1. 1. 1. 1. 1.]\n",
            " [1. 1. 1. 1. 1. 1. 1. 1. 1. 1.]\n",
            " [1. 1. 1. 1. 1. 1. 1. 1. 1. 1.]]\n",
            "[[1. 1. 1. 1. 1. 1. 1. 1. 1. 1.]\n",
            " [1. 1. 1. 0. 0. 1. 1. 1. 1. 1.]\n",
            " [1. 1. 1. 0. 0. 1. 1. 1. 1. 1.]\n",
            " [1. 1. 1. 1. 1. 1. 1. 1. 1. 1.]\n",
            " [1. 1. 1. 1. 1. 1. 1. 1. 1. 1.]\n",
            " [1. 1. 1. 1. 1. 1. 1. 1. 1. 1.]\n",
            " [1. 1. 1. 1. 1. 1. 1. 1. 1. 1.]\n",
            " [1. 1. 1. 1. 1. 1. 1. 1. 1. 1.]\n",
            " [1. 1. 1. 1. 1. 1. 1. 1. 1. 1.]\n",
            " [1. 1. 1. 1. 1. 1. 1. 1. 1. 1.]]\n"
          ]
        }
      ],
      "source": [
        "# Z[1:2,3:4]类似的取矩阵的语法\n",
        "Z \u003d np.ones((10,10))\n",
        "print(Z)\n",
        "# Z[1:-1,1:-1] \u003d 0\n",
        "Z[1:3,3:5] \u003d 0\n",
        "print(Z)"
      ]
    },
    {
      "cell_type": "code",
      "execution_count": 16,
      "metadata": {
        "pycharm": {}
      },
      "outputs": [
        {
          "name": "stdout",
          "output_type": "stream",
          "text": [
            "[[0. 0. 0. 0. 0. 0. 0.]\n",
            " [0. 1. 1. 1. 1. 1. 0.]\n",
            " [0. 1. 1. 1. 1. 1. 0.]\n",
            " [0. 1. 1. 1. 1. 1. 0.]\n",
            " [0. 1. 1. 1. 1. 1. 0.]\n",
            " [0. 1. 1. 1. 1. 1. 0.]\n",
            " [0. 0. 0. 0. 0. 0. 0.]]\n"
          ]
        }
      ],
      "source": [
        "# ch16\n",
        "# pad:垫子,铺路 转一圈，周围围一圈0\n",
        "# constant,edge,linner_ramp(边缘递减填充),maximum,mean,\n",
        "# median,minimum,reflect(边缘对称),symmetric,wrap(后面填前面前面填后面)\n",
        "Z \u003dnp.ones((5,5))\n",
        "Z \u003d np.pad(Z,pad_width\u003d1,mode\u003d\u0027constant\u0027,constant_values\u003d0)\n",
        "print(Z)"
      ]
    },
    {
      "cell_type": "code",
      "execution_count": 17,
      "metadata": {
        "pycharm": {}
      },
      "outputs": [
        {
          "name": "stdout",
          "output_type": "stream",
          "text": [
            "nan\n",
            "False\n",
            "False\n",
            "nan\n",
            "True\n",
            "False\n"
          ]
        }
      ],
      "source": "print(0 * np.nan)\nprint(np.nan \u003d\u003d np.nan)\nprint(np.inf \u003e np.nan)\nprint(np.nan - np.nan)\nprint(np.nan in {np.nan}) #!!! True\nprint(0.3 \u003d\u003d 3 * 0.1) #!!! False"
    },
    {
      "cell_type": "code",
      "execution_count": 18,
      "metadata": {
        "pycharm": {}
      },
      "outputs": [
        {
          "name": "stdout",
          "output_type": "stream",
          "text": [
            "[[0 0 0 0 0 0]\n",
            " [0 0 0 0 0 0]\n",
            " [1 0 0 0 0 0]\n",
            " [0 2 0 0 0 0]\n",
            " [0 0 3 0 0 0]\n",
            " [0 0 0 4 0 0]]\n"
          ]
        }
      ],
      "source": [
        "# 生成方阵，对角线元素向左下角移动几位\n",
        "Z \u003d np.diag(1+np.arange(4),k\u003d-2)\n",
        "print(Z)"
      ]
    },
    {
      "cell_type": "code",
      "execution_count": 19,
      "metadata": {
        "pycharm": {}
      },
      "outputs": [
        {
          "name": "stdout",
          "output_type": "stream",
          "text": [
            "[[0 0 0 0 0 0 0 0]\n",
            " [0 0 0 0 0 0 0 0]\n",
            " [0 0 0 0 0 0 0 0]\n",
            " [0 0 0 0 0 0 0 0]\n",
            " [0 0 0 0 0 0 0 0]\n",
            " [0 0 0 0 0 0 0 0]\n",
            " [0 0 0 0 0 0 0 0]\n",
            " [0 0 0 0 0 0 0 0]]\n",
            "[[0 0 0 0 0 0 0 0]\n",
            " [1 0 1 0 1 0 1 0]\n",
            " [0 0 0 0 0 0 0 0]\n",
            " [1 0 1 0 1 0 1 0]\n",
            " [0 0 0 0 0 0 0 0]\n",
            " [1 0 1 0 1 0 1 0]\n",
            " [0 0 0 0 0 0 0 0]\n",
            " [1 0 1 0 1 0 1 0]]\n",
            "[[0 2 0 2 0 2 0 2]\n",
            " [1 0 1 0 1 0 1 0]\n",
            " [0 2 0 2 0 2 0 2]\n",
            " [1 0 1 0 1 0 1 0]\n",
            " [0 2 0 2 0 2 0 2]\n",
            " [1 0 1 0 1 0 1 0]\n",
            " [0 2 0 2 0 2 0 2]\n",
            " [1 0 1 0 1 0 1 0]]\n"
          ]
        }
      ],
      "source": [
        "# checkboard 棋盘...\n",
        "Z \u003d np.zeros((8,8),dtype\u003dint)\n",
        "print(Z)\n",
        "Z[1::2,::2] \u003d 1\n",
        "print(Z)\n",
        "Z[::2,1::2] \u003d 2\n",
        "print(Z)"
      ]
    },
    {
      "cell_type": "code",
      "execution_count": 20,
      "metadata": {
        "pycharm": {}
      },
      "outputs": [
        {
          "name": "stdout",
          "output_type": "stream",
          "text": [
            "(1, 5, 4)\n"
          ]
        }
      ],
      "source": [
        "# 从0往后递增的序列数，前面的indices的数在该array里面的索引位置\n",
        "# Z \u003d np.unravel_index(indices\u003d[22, 41, 37], shape\u003d(7,6))\n",
        "# (array([3, 6, 6]), array([4, 5, 1]))\n",
        "Z \u003d np.unravel_index(100,(6,7,8))\n",
        "print(Z)"
      ]
    },
    {
      "cell_type": "code",
      "execution_count": 21,
      "metadata": {
        "pycharm": {}
      },
      "outputs": [
        {
          "name": "stdout",
          "output_type": "stream",
          "text": [
            "[[0 1 0 1 0 1 0 1]\n",
            " [1 0 1 0 1 0 1 0]\n",
            " [0 1 0 1 0 1 0 1]\n",
            " [1 0 1 0 1 0 1 0]\n",
            " [0 1 0 1 0 1 0 1]\n",
            " [1 0 1 0 1 0 1 0]\n",
            " [0 1 0 1 0 1 0 1]\n",
            " [1 0 1 0 1 0 1 0]]\n"
          ]
        }
      ],
      "source": [
        "#ch21\n",
        "# tile:铺，重复整个数组后面shape的次数\n",
        "Z \u003d np.tile(np.array([[0,1],[1,0]]),(4,4))\n",
        "print(Z)"
      ]
    },
    {
      "cell_type": "code",
      "execution_count": 22,
      "metadata": {
        "pycharm": {}
      },
      "outputs": [
        {
          "name": "stdout",
          "output_type": "stream",
          "text": [
            "[[0.59139023 0.43099564 0.39567925 0.61624902 0.57708021]\n",
            " [0.54418498 0.17427999 0.9939781  0.30649972 0.75579663]\n",
            " [0.09074791 0.87639026 0.63480892 0.9820696  0.85602324]\n",
            " [0.70120417 0.02222665 0.70773573 0.61797744 0.20011985]\n",
            " [0.49543662 0.18362604 0.79107243 0.73538157 0.09921224]]\n",
            "[[ 0.20012051 -0.37118969 -0.49698328  0.28866516  0.1491496 ]\n",
            " [ 0.03197993 -1.28558629  1.6341     -0.81463225  0.78572038]\n",
            " [-1.58311955  1.21526335  0.35477374  1.59168308  1.14271798]\n",
            " [ 0.59126728 -1.82718573  0.61453205  0.29482161 -1.19354718]\n",
            " [-0.14165706 -1.25229652  0.91136942  0.71300391 -1.55297044]]\n"
          ]
        }
      ],
      "source": [
        "# 标准化(归一化)一个数组\n",
        "Z \u003d np.random.random((5,5))\n",
        "print(Z)\n",
        "Z \u003d (Z-np.mean(Z))/(np.std(Z))\n",
        "print(Z)"
      ]
    },
    {
      "cell_type": "code",
      "execution_count": 23,
      "metadata": {
        "pycharm": {}
      },
      "outputs": [
        {
          "name": "stdout",
          "output_type": "stream",
          "text": [
            "[(\u0027r\u0027, \u0027u1\u0027), (\u0027g\u0027, \u0027u1\u0027), (\u0027b\u0027, \u0027u1\u0027), (\u0027a\u0027, \u0027u1\u0027)]\n"
          ]
        }
      ],
      "source": [
        "# 自定义数据类型\n",
        "color \u003d np.dtype([(\u0027r\u0027,np.ubyte,1),(\u0027g\u0027,np.ubyte,1),\n",
        "                  (\u0027b\u0027,np.ubyte,1),(\u0027a\u0027,np.ubyte,1)])\n",
        "print(color)"
      ]
    },
    {
      "cell_type": "code",
      "execution_count": 24,
      "metadata": {
        "pycharm": {}
      },
      "outputs": [
        {
          "name": "stdout",
          "output_type": "stream",
          "text": [
            "[[3. 3.]\n",
            " [3. 3.]\n",
            " [3. 3.]\n",
            " [3. 3.]\n",
            " [3. 3.]]\n",
            "[[3. 3.]\n",
            " [3. 3.]\n",
            " [3. 3.]\n",
            " [3. 3.]\n",
            " [3. 3.]]\n"
          ]
        }
      ],
      "source": [
        "# 矩阵乘法\n",
        "X \u003d np.ones((5,3))\n",
        "Y \u003d np.ones((3,2))\n",
        "Z \u003d np.dot(X,Y)\n",
        "Z2 \u003d X @ Y\n",
        "print(Z)\n",
        "print(Z2)"
      ]
    },
    {
      "cell_type": "code",
      "execution_count": 25,
      "metadata": {
        "pycharm": {}
      },
      "outputs": [
        {
          "name": "stdout",
          "output_type": "stream",
          "text": [
            "[ 0  1  2  3 -4 -5 -6 -7 -8  9 10]\n"
          ]
        }
      ],
      "source": [
        "# 条件选择\n",
        "Z \u003d np.arange(11)\n",
        "Z[(3\u003cZ) \u0026 (Z \u003c\u003d 8)] *\u003d -1\n",
        "print(Z)"
      ]
    },
    {
      "cell_type": "code",
      "execution_count": 26,
      "metadata": {
        "pycharm": {}
      },
      "outputs": [
        {
          "name": "stdout",
          "output_type": "stream",
          "text": [
            "9\n",
            "10\n"
          ]
        }
      ],
      "source": [
        "#ch26\n",
        "# 自带的sum的-1指的是求和的初始值，np.sum的-1指的是axis，轴的概念 \n",
        "print(sum(range(5),-1))\n",
        "print(np.sum(range(5),-1))"
      ]
    },
    {
      "cell_type": "code",
      "execution_count": 27,
      "metadata": {
        "pycharm": {}
      },
      "outputs": [
        {
          "name": "stdout",
          "output_type": "stream",
          "text": [
            "[ 1  4 27]\n",
            "[1 2 4]\n",
            "[False False False]\n",
            "[0.+1.j 0.+2.j 0.+3.j]\n",
            "[1. 2. 3.]\n"
          ]
        }
      ],
      "source": [
        "Z \u003d np.array([1,2,3])\n",
        "print(Z ** Z) # 矩阵中对应的各个元素的乘方\n",
        "print(2 \u003c\u003c Z \u003e\u003e 2) #左移两位再右移两位\n",
        "print(Z \u003c -Z) #挨个元素的比较\n",
        "print(1j * Z) #矩阵可以进行虚数运算\n",
        "print(Z/1/1)\n",
        "# print(Z\u003cZ\u003eZ) #真假值和矩阵不能比较大小"
      ]
    },
    {
      "cell_type": "code",
      "execution_count": 28,
      "metadata": {
        "pycharm": {}
      },
      "outputs": [
        {
          "name": "stdout",
          "output_type": "stream",
          "text": [
            "nan\n",
            "0\n",
            "[nan]\n",
            "[-9223372036854775808]\n",
            "[-9.22337204e+18]\n"
          ]
        },
        {
          "name": "stderr",
          "output_type": "stream",
          "text": [
            "/usr/local/lib/python3.7/site-packages/ipykernel_launcher.py:1: RuntimeWarning: invalid value encountered in true_divide\n",
            "  \"\"\"Entry point for launching an IPython kernel.\n",
            "/usr/local/lib/python3.7/site-packages/ipykernel_launcher.py:2: RuntimeWarning: divide by zero encountered in floor_divide\n",
            "  \n"
          ]
        }
      ],
      "source": [
        "print(np.array(0)/np.array(0))   # 真除法返回nan\n",
        "print(np.array(0)//np.array(0)) # 地板触发返回0\n",
        "print(np.array([np.nan]))\n",
        "print(np.array([np.nan]).astype(int)) #nan as_int 会返回最小的int64位带符号整形数-9223372036854775808\n",
        "print(np.array([np.nan]).astype(int).astype(float)) "
      ]
    },
    {
      "cell_type": "code",
      "execution_count": 30,
      "metadata": {
        "pycharm": {}
      },
      "outputs": [
        {
          "name": "stdout",
          "output_type": "stream",
          "text": [
            "[-9.63384438  7.19863745 -4.73063125 -0.42450219  4.18795861  7.85737354\n",
            " -9.48583729 -5.43215291 -1.22539101  8.69126188]\n",
            "[-10.   8.  -5.  -1.   5.   8. -10.  -6.  -2.   9.]\n"
          ]
        }
      ],
      "source": [
        "# uniform: [-10,10)左闭右开，均匀取样取10个\n",
        "# ceil: 天花板，取上界\n",
        "# copysign: 把第二个参数的符号赋值给第一个\n",
        "Z \u003d np.random.uniform(-10,10,10)\n",
        "print(Z)\n",
        "print(np.copysign(np.ceil(np.abs(Z)),Z))"
      ]
    },
    {
      "cell_type": "code",
      "execution_count": 33,
      "metadata": {
        "pycharm": {}
      },
      "outputs": [
        {
          "name": "stdout",
          "output_type": "stream",
          "text": [
            "[5 3 4 7 6 5 6 6 1 5] [1 5 7 0 8 8 6 0 0 3]\n",
            "[1 3 5 6 7]\n"
          ]
        }
      ],
      "source": [
        "# intersect 取交集，排序之后找两个集合都有的元素\n",
        "Z1 \u003d np.random.randint(0,10,10)\n",
        "Z2 \u003d np.random.randint(0,10,10)\n",
        "print(Z1,Z2)\n",
        "print(np.intersect1d(Z1,Z2))"
      ]
    },
    {
      "cell_type": "code",
      "execution_count": 40,
      "metadata": {
        "pycharm": {}
      },
      "outputs": [
        {
          "ename": "AttributeError",
          "evalue": "module \u0027numpy\u0027 has no attribute \u0027errstatde\u0027",
          "output_type": "error",
          "traceback": [
            "\u001b[0;31m---------------------------------------------------------------------------\u001b[0m",
            "\u001b[0;31mAttributeError\u001b[0m                            Traceback (most recent call last)",
            "\u001b[0;32m\u003cipython-input-40-14d350978a1f\u003e\u001b[0m in \u001b[0;36m\u003cmodule\u003e\u001b[0;34m\u001b[0m\n\u001b[1;32m      5\u001b[0m \u001b[0;31m# _ \u003d np.seterr(**defaults)\u001b[0m\u001b[0;34m\u001b[0m\u001b[0;34m\u001b[0m\u001b[0;34m\u001b[0m\u001b[0m\n\u001b[1;32m      6\u001b[0m \u001b[0;34m\u001b[0m\u001b[0m\n\u001b[0;32m----\u003e 7\u001b[0;31m \u001b[0;32mwith\u001b[0m \u001b[0mnp\u001b[0m\u001b[0;34m.\u001b[0m\u001b[0merrstatde\u001b[0m\u001b[0;34m(\u001b[0m\u001b[0mdivide\u001b[0m\u001b[0;34m\u003d\u001b[0m\u001b[0;34m\u0027ignore\u0027\u001b[0m\u001b[0;34m)\u001b[0m\u001b[0;34m:\u001b[0m\u001b[0;34m\u001b[0m\u001b[0;34m\u001b[0m\u001b[0m\n\u001b[0m\u001b[1;32m      8\u001b[0m     \u001b[0mZ\u001b[0m \u001b[0;34m\u003d\u001b[0m \u001b[0mnp\u001b[0m\u001b[0;34m.\u001b[0m\u001b[0mones\u001b[0m\u001b[0;34m(\u001b[0m\u001b[0;36m1\u001b[0m\u001b[0;34m)\u001b[0m\u001b[0;34m/\u001b[0m\u001b[0;36m0\u001b[0m\u001b[0;34m\u001b[0m\u001b[0;34m\u001b[0m\u001b[0m\n",
            "\u001b[0;31mAttributeError\u001b[0m: module \u0027numpy\u0027 has no attribute \u0027errstatde\u0027"
          ]
        }
      ],
      "source": "# ch31\n# 忽略numpy的全部警告\n# defaults \u003d np.seterr(all\u003d\u0027ignore\u0027)\nZ \u003d np.ones(1)/0\n# 返回正常mode\n# _ \u003d np.seterr(**defaults)\n\nwith np.errstate(divide\u003d\u0027ignore\u0027):\n    X \u003d np.ones(1)/0\n    print(X)"
    },
    {
      "cell_type": "code",
      "execution_count": 43,
      "metadata": {
        "pycharm": {}
      },
      "outputs": [
        {
          "name": "stdout",
          "output_type": "stream",
          "text": [
            "nan\n",
            "1j\n",
            "False\n"
          ]
        }
      ],
      "source": "b \u003d np.sqrt(-1) \u003d\u003d np.emath.sqrt(-1) \nprint(np.sqrt(-1)) # nan\nprint(np.emath.sqrt(-1)) //1j\nprint(b)"
    },
    {
      "cell_type": "code",
      "execution_count": 49,
      "metadata": {
        "pycharm": {}
      },
      "outputs": [
        {
          "name": "stdout",
          "output_type": "stream",
          "text": [
            "2019-05-07 2019-05-08 2019-05-09\n"
          ]
        }
      ],
      "source": "# 时间运算\nyesterday \u003d np.datetime64(\u0027today\u0027,\u0027D\u0027) - np.timedelta64(1,\u0027D\u0027)\ntoday \u003d np.datetime64(\u0027today\u0027,\u0027D\u0027)\ntomorrow \u003d np.datetime64(\u0027today\u0027,\u0027D\u0027) + np.timedelta64(1,\u0027D\u0027)\nprint(yesterday,today,tomorrow)"
    },
    {
      "cell_type": "code",
      "execution_count": 57,
      "metadata": {
        "pycharm": {}
      },
      "outputs": [
        {
          "name": "stdout",
          "output_type": "stream",
          "text": [
            "[\u00272019-04-01\u0027 \u00272019-04-02\u0027 \u00272019-04-03\u0027 \u00272019-04-04\u0027 \u00272019-04-05\u0027\n",
            " \u00272019-04-06\u0027 \u00272019-04-07\u0027 \u00272019-04-08\u0027 \u00272019-04-09\u0027 \u00272019-04-10\u0027\n",
            " \u00272019-04-11\u0027 \u00272019-04-12\u0027 \u00272019-04-13\u0027 \u00272019-04-14\u0027 \u00272019-04-15\u0027\n",
            " \u00272019-04-16\u0027 \u00272019-04-17\u0027 \u00272019-04-18\u0027 \u00272019-04-19\u0027 \u00272019-04-20\u0027\n",
            " \u00272019-04-21\u0027 \u00272019-04-22\u0027 \u00272019-04-23\u0027 \u00272019-04-24\u0027 \u00272019-04-25\u0027\n",
            " \u00272019-04-26\u0027 \u00272019-04-27\u0027 \u00272019-04-28\u0027 \u00272019-04-29\u0027 \u00272019-04-30\u0027]\n"
          ]
        }
      ],
      "source": [
        "# 获取按天增加的固定日期\n",
        "Z \u003d np.arange(\u00272019-04\u0027,\u00272019-05\u0027,dtype\u003d\u0027datetime64[D]\u0027)\n",
        "print(Z)"
      ]
    },
    {
      "cell_type": "code",
      "execution_count": 60,
      "metadata": {
        "pycharm": {}
      },
      "outputs": [
        {
          "name": "stdout",
          "output_type": "stream",
          "text": [
            "[3. 3. 3.]\n",
            "[0.5 0.5 0.5]\n",
            "[-1.5 -1.5 -1.5]\n"
          ]
        }
      ],
      "source": [
        "# 矩阵运算\n",
        "A \u003d np.ones(3)*1\n",
        "B \u003d np.ones(3)*2\n",
        "C \u003d np.ones(3)*3\n",
        "np.add(A,B,out\u003dB)\n",
        "print(B)\n",
        "np.divide(A,2,out\u003dA)\n",
        "print(A)\n",
        "np.negative(A,out\u003dA)\n",
        "np.multiply(A,B,out\u003dA)\n",
        "print(A)"
      ]
    },
    {
      "cell_type": "code",
      "execution_count": null,
      "metadata": {
        "pycharm": {}
      },
      "outputs": [],
      "source": [
        "#ch36"
      ]
    }
  ],
  "metadata": {
    "kernelspec": {
      "display_name": "Python 3",
      "language": "python",
      "name": "python3"
    },
    "language_info": {
      "codemirror_mode": {
        "name": "ipython",
        "version": 3
      },
      "file_extension": ".py",
      "mimetype": "text/x-python",
      "name": "python",
      "nbconvert_exporter": "python",
      "pygments_lexer": "ipython3",
      "version": "3.7.2"
    }
  },
  "nbformat": 4,
  "nbformat_minor": 1
}